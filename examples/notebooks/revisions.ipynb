{
 "cells": [
  {
   "cell_type": "code",
   "execution_count": null,
   "metadata": {},
   "outputs": [],
   "source": [
    "from trl.trainer import OpenAIReviser, OpenAIPairwiseJudge\n",
    "\n",
    "judge = OpenAIPairwiseJudge(\"gpt-4-turbo-preview\")\n",
    "reviser = OpenAIReviser(\"gpt-4-turbo-preview\")"
   ]
  },
  {
   "cell_type": "code",
   "execution_count": null,
   "metadata": {},
   "outputs": [],
   "source": [
    "prompt = ['The capital of Germany is?']\n",
    "completion = ['The capital of Germany is Hamburg. Hamburg is a beautiful city in the north of Germany']\n",
    "\n",
    "edit = reviser.revise(prompt, completion)\n",
    "print(edit)\n"
   ]
  },
  {
   "cell_type": "code",
   "execution_count": null,
   "metadata": {},
   "outputs": [],
   "source": [
    "prompt = ['The capital of Germany is?']\n",
    "completion = [\n",
    "    'The capital of Germany is Hamburg.',\n",
    "    'The capital of Germany is Berlin.',\n",
    "]\n",
    "\n",
    "judgement = judge.judge(prompt, completion)\n",
    "print(judgement)"
   ]
  }
 ],
 "metadata": {
  "kernelspec": {
   "display_name": "trl-up2date-karel",
   "language": "python",
   "name": "python3"
  },
  "language_info": {
   "name": "python",
   "version": "3.9.19"
  }
 },
 "nbformat": 4,
 "nbformat_minor": 2
}
